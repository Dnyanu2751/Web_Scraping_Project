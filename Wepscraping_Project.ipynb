{
 "cells": [
  {
   "cell_type": "markdown",
   "id": "ec2cfe1c",
   "metadata": {},
   "source": [
    "# Webscraping\n",
    "\n",
    "Project:\n",
    "    find laptop name and price"
   ]
  },
  {
   "cell_type": "code",
   "execution_count": 1,
   "id": "f3dbbaba",
   "metadata": {},
   "outputs": [],
   "source": [
    "url = \"https://www.flipkart.com/laptops-store?otracker=nmenu_sub_Electronics_0_Laptops\""
   ]
  },
  {
   "cell_type": "code",
   "execution_count": 2,
   "id": "204dd09b",
   "metadata": {},
   "outputs": [],
   "source": [
    "import requests\n",
    "from bs4 import BeautifulSoup"
   ]
  },
  {
   "cell_type": "code",
   "execution_count": 3,
   "id": "eeb44edd",
   "metadata": {},
   "outputs": [
    {
     "data": {
      "text/plain": [
       "<Response [200]>"
      ]
     },
     "execution_count": 3,
     "metadata": {},
     "output_type": "execute_result"
    }
   ],
   "source": [
    "requests.get(url)"
   ]
  },
  {
   "cell_type": "code",
   "execution_count": 4,
   "id": "b9c8c8a9",
   "metadata": {},
   "outputs": [],
   "source": [
    "data = requests.get(url)"
   ]
  },
  {
   "cell_type": "code",
   "execution_count": 5,
   "id": "f0a26ead",
   "metadata": {},
   "outputs": [],
   "source": [
    "soup = BeautifulSoup(data.content)\n"
   ]
  },
  {
   "cell_type": "code",
   "execution_count": 13,
   "id": "cc84f903",
   "metadata": {},
   "outputs": [
    {
     "data": {
      "text/plain": [
       "[<a class=\"s1Q9rs\" href=\"/infinix-inbook-x1-core-i3-10th-gen-8-gb-256-gb-ssd-windows-11-home-xl11-thin-light-laptop/p/itmc853735b3bcae?pid=COMG8Z3HYTJZFF2Z&amp;lid=LSTCOMG8Z3HYTJZFF2ZTYHG57&amp;marketplace=FLIPKART&amp;fm=neo%2Fmerchandising&amp;iid=M_4dcb01e0-321c-420f-a594-faa660f330aa_17_ABTXC9653TK1_MC.COMG8Z3HYTJZFF2Z&amp;ppt=None&amp;ppn=None&amp;ssid=8y38eyk0rk0000001659956668355&amp;otracker=clp_pmu_v2_Design%2BContent%2B%2526%2BLaptops_1_17.productCard.PMU_V2_Infinix%2BINBook%2BX1%2BCore%2Bi3%2B10th%2BGen%2B-%2B%25288%2BGB%252F256%2BGB%2BSSD%252FWindows%2B11%2BHome%2529%2BXL11%2BThin%2Band%2BLight%2BLaptop_laptops-store_COMG8Z3HYTJZFF2Z_neo%2Fmerchandising_0&amp;otracker1=clp_pmu_v2_PINNED_neo%2Fmerchandising_Design%2BContent%2B%2526%2BLaptops_LIST_productCard_cc_1_NA_view-all&amp;cid=COMG8Z3HYTJZFF2Z\" rel=\"noopener noreferrer\" target=\"_blank\" title=\"Infinix INBook X1 Core i3 10th Gen - (8 GB/256 GB SSD/Windows 11 Home) XL11 Thin and Light Laptop\">Infinix INBook X1 Core i3 10th Gen - (8 GB/256 GB SSD/Windows 11 ...</a>,\n",
       " <a class=\"s1Q9rs\" href=\"/lenovo-ideapad-3-core-i3-10th-gen-8-gb-256-gb-ssd-windows-11-home-15iml05-thin-light-laptop/p/itmd1871bfcde765?pid=COMG6AKVAHWTHAQG&amp;lid=LSTCOMG6AKVAHWTHAQGXUICJF&amp;marketplace=FLIPKART&amp;fm=neo%2Fmerchandising&amp;iid=M_4dcb01e0-321c-420f-a594-faa660f330aa_17_ABTXC9653TK1_MC.COMG6AKVAHWTHAQG&amp;ppt=None&amp;ppn=None&amp;ssid=8y38eyk0rk0000001659956668355&amp;otracker=clp_pmu_v2_Design%2BContent%2B%2526%2BLaptops_2_17.productCard.PMU_V2_Lenovo%2BIdeaPad%2B3%2BCore%2Bi3%2B10th%2BGen%2B-%2B%25288%2BGB%252F256%2BGB%2BSSD%252FWindows%2B11%2BHome%2529%2B15IML05%2BThin%2Band%2BLight%2BLaptop_laptops-store_COMG6AKVAHWTHAQG_neo%2Fmerchandising_1&amp;otracker1=clp_pmu_v2_PINNED_neo%2Fmerchandising_Design%2BContent%2B%2526%2BLaptops_LIST_productCard_cc_2_NA_view-all&amp;cid=COMG6AKVAHWTHAQG\" rel=\"noopener noreferrer\" target=\"_blank\" title=\"Lenovo IdeaPad 3 Core i3 10th Gen - (8 GB/256 GB SSD/Windows 11 Home) 15IML05 Thin and Light Laptop\">Lenovo IdeaPad 3 Core i3 10th Gen - (8 GB/256 GB SSD/Windows 11 H...</a>,\n",
       " <a class=\"s1Q9rs\" href=\"/redmibook-pro-core-i5-11th-gen-8-gb-512-gb-ssd-windows-10-home-thin-light-laptop/p/itmcf5d0bf3be2d5?pid=COMG4Z359A4Z3MFG&amp;lid=LSTCOMG4Z359A4Z3MFGOJQLGB&amp;marketplace=FLIPKART&amp;fm=neo%2Fmerchandising&amp;iid=M_4dcb01e0-321c-420f-a594-faa660f330aa_17_ABTXC9653TK1_MC.COMG4Z359A4Z3MFG&amp;ppt=None&amp;ppn=None&amp;ssid=8y38eyk0rk0000001659956668355&amp;otracker=clp_pmu_v2_Design%2BContent%2B%2526%2BLaptops_3_17.productCard.PMU_V2_RedmiBook%2BPro%2BCore%2Bi5%2B11th%2BGen%2B-%2B%25288%2BGB%252F512%2BGB%2BSSD%252FWindows%2B10%2BHome%2529%2BThin%2Band%2BLight%2BLaptop_laptops-store_COMG4Z359A4Z3MFG_neo%2Fmerchandising_2&amp;otracker1=clp_pmu_v2_PINNED_neo%2Fmerchandising_Design%2BContent%2B%2526%2BLaptops_LIST_productCard_cc_3_NA_view-all&amp;cid=COMG4Z359A4Z3MFG\" rel=\"noopener noreferrer\" target=\"_blank\" title=\"RedmiBook Pro Core i5 11th Gen - (8 GB/512 GB SSD/Windows 10 Home) Thin and Light Laptop\">RedmiBook Pro Core i5 11th Gen - (8 GB/512 GB SSD/Windows 10 Home...</a>,\n",
       " <a class=\"s1Q9rs\" href=\"/asus-celeron-dual-core-4-gb-1-tb-hdd-windows-10-home-x543ma-gq1015t-laptop/p/itmf8811674edbeb?pid=COMFSKF9UQH8RKYF&amp;lid=LSTCOMFSKF9UQH8RKYFK8UKIL&amp;marketplace=FLIPKART&amp;fm=neo%2Fmerchandising&amp;iid=M_4dcb01e0-321c-420f-a594-faa660f330aa_17_ABTXC9653TK1_MC.COMFSKF9UQH8RKYF&amp;ppt=None&amp;ppn=None&amp;ssid=8y38eyk0rk0000001659956668355&amp;otracker=clp_pmu_v2_Design%2BContent%2B%2526%2BLaptops_4_17.productCard.PMU_V2_ASUS%2BCeleron%2BDual%2BCore%2B-%2B%25284%2BGB%252F1%2BTB%2BHDD%252FWindows%2B10%2BHome%2529%2BX543MA-GQ1015T%2BLaptop_laptops-store_COMFSKF9UQH8RKYF_neo%2Fmerchandising_3&amp;otracker1=clp_pmu_v2_PINNED_neo%2Fmerchandising_Design%2BContent%2B%2526%2BLaptops_LIST_productCard_cc_4_NA_view-all&amp;cid=COMFSKF9UQH8RKYF\" rel=\"noopener noreferrer\" target=\"_blank\" title=\"ASUS Celeron Dual Core - (4 GB/1 TB HDD/Windows 10 Home) X543MA-GQ1015T Laptop\">ASUS Celeron Dual Core - (4 GB/1 TB HDD/Windows 10 Home) X543MA-G...</a>,\n",
       " <a class=\"s1Q9rs\" href=\"/acer-aspire-7-core-i5-10th-gen-8-gb-512-gb-ssd-windows-10-home-4-graphics-nvidia-geforce-gtx-1650-a715-75g-50ta-a715-75g-41g-a715-75g-52aa-gaming-laptop/p/itm365d5a348ad9c?pid=COMG2KBG2K4GFFF7&amp;lid=LSTCOMG2KBG2K4GFFF78YBPHO&amp;marketplace=FLIPKART&amp;fm=neo%2Fmerchandising&amp;iid=M_4dcb01e0-321c-420f-a594-faa660f330aa_17_ABTXC9653TK1_MC.COMG2KBG2K4GFFF7&amp;ppt=None&amp;ppn=None&amp;ssid=8y38eyk0rk0000001659956668355&amp;otracker=clp_pmu_v2_Design%2BContent%2B%2526%2BLaptops_5_17.productCard.PMU_V2_acer%2BAspire%2B7%2BCore%2Bi5%2B10th%2BGen%2B-%2B%25288%2BGB%252F512%2BGB%2BSSD%252FWindows%2B10%2BHome%252F4%2BGB%2BGraphics%252FNVIDIA%2BGeForce%2BGTX%2B1650%2529%2BA715-75G-50TA%252F%2BA715-75G-41G%252F%2BA715-75G-52AA%2BGaming%2BLaptop_laptops-store_COMG2KBG2K4GFFF7_neo%2Fmerchandising_4&amp;otracker1=clp_pmu_v2_PINNED_neo%2Fmerchandising_Design%2BContent%2B%2526%2BLaptops_LIST_productCard_cc_5_NA_view-all&amp;cid=COMG2KBG2K4GFFF7\" rel=\"noopener noreferrer\" target=\"_blank\" title=\"acer Aspire 7 Core i5 10th Gen - (8 GB/512 GB SSD/Windows 10 Home/4 GB Graphics/NVIDIA GeForce GTX 1650) A715-75G-50TA/ A715-75G-41G/ A715-75G-52AA Gaming Laptop\">acer Aspire 7 Core i5 10th Gen - (8 GB/512 GB SSD/Windows 10 Home...</a>,\n",
       " <a class=\"s1Q9rs\" href=\"/hp-ryzen-3-dual-core-3250u-8-gb-256-gb-ssd-windows-11-home-15s-gy0501au-thin-light-laptop/p/itmcc3db7767aba4?pid=COMG6MVEA2PWVH3B&amp;lid=LSTCOMG6MVEA2PWVH3BJ8QBY0&amp;marketplace=FLIPKART&amp;fm=neo%2Fmerchandising&amp;iid=M_4dcb01e0-321c-420f-a594-faa660f330aa_17_ABTXC9653TK1_MC.COMG6MVEA2PWVH3B&amp;ppt=None&amp;ppn=None&amp;ssid=8y38eyk0rk0000001659956668355&amp;otracker=clp_pmu_v2_Design%2BContent%2B%2526%2BLaptops_6_17.productCard.PMU_V2_HP%2BRyzen%2B3%2BDual%2BCore%2B3250U%2B-%2B%25288%2BGB%252F256%2BGB%2BSSD%252FWindows%2B11%2BHome%2529%2B15s-GY0501AU%2BThin%2Band%2BLight%2BLaptop_laptops-store_COMG6MVEA2PWVH3B_neo%2Fmerchandising_5&amp;otracker1=clp_pmu_v2_PINNED_neo%2Fmerchandising_Design%2BContent%2B%2526%2BLaptops_LIST_productCard_cc_6_NA_view-all&amp;cid=COMG6MVEA2PWVH3B\" rel=\"noopener noreferrer\" target=\"_blank\" title=\"HP Ryzen 3 Dual Core 3250U - (8 GB/256 GB SSD/Windows 11 Home) 15s-GY0501AU Thin and Light Laptop\">HP Ryzen 3 Dual Core 3250U - (8 GB/256 GB SSD/Windows 11 Home) 15...</a>,\n",
       " <a class=\"s1Q9rs\" href=\"/acer-aspire-7-core-i5-12th-gen-8-gb-512-gb-ssd-windows-11-home-4-graphics-nvidia-geforce-gtx-1650-a715-5g-a715-51g-57y1-gaming-laptop/p/itm3876d2c13917a?pid=COMGF33NW6RSYXWJ&amp;lid=LSTCOMGF33NW6RSYXWJPGBHAV&amp;marketplace=FLIPKART&amp;fm=neo%2Fmerchandising&amp;iid=M_4dcb01e0-321c-420f-a594-faa660f330aa_19_V64VET8EKPLC_MC.COMGF33NW6RSYXWJ&amp;ppt=None&amp;ppn=None&amp;ssid=8y38eyk0rk0000001659956668355&amp;otracker=clp_pmu_v2_Gaming%2BLaptops_1_19.productCard.PMU_V2_acer%2BAspire%2B7%2BCore%2Bi5%2B12th%2BGen%2B-%2B%25288%2BGB%252F512%2BGB%2BSSD%252FWindows%2B11%2BHome%252F4%2BGB%2BGraphics%252FNVIDIA%2BGeForce%2BGTX%2B1650%2529%2BA715-5G%252F%2BA715-51G-57Y1%2BGaming%2BLaptop_laptops-store_COMGF33NW6RSYXWJ_neo%2Fmerchandising_0&amp;otracker1=clp_pmu_v2_PINNED_neo%2Fmerchandising_Gaming%2BLaptops_LIST_productCard_cc_1_NA_view-all&amp;cid=COMGF33NW6RSYXWJ\" rel=\"noopener noreferrer\" target=\"_blank\" title=\"acer Aspire 7 Core i5 12th Gen - (8 GB/512 GB SSD/Windows 11 Home/4 GB Graphics/NVIDIA GeForce GTX 1650) A715-5G/ A715-51G-57Y1 Gaming Laptop\">acer Aspire 7 Core i5 12th Gen - (8 GB/512 GB SSD/Windows 11 Home...</a>,\n",
       " <a class=\"s1Q9rs\" href=\"/hp-pavilion-ryzen-5-hexa-core-5600h-8-gb-512-gb-ssd-windows-10-4-graphics-nvidia-geforce-gtx-1650-144-hz-15-ec2004ax-gaming-laptop/p/itm98c94bbf9bc20?pid=COMG5GZXPWMGTNWS&amp;lid=LSTCOMG5GZXPWMGTNWSQE9WVW&amp;marketplace=FLIPKART&amp;fm=neo%2Fmerchandising&amp;iid=M_4dcb01e0-321c-420f-a594-faa660f330aa_19_V64VET8EKPLC_MC.COMG5GZXPWMGTNWS&amp;ppt=None&amp;ppn=None&amp;ssid=8y38eyk0rk0000001659956668355&amp;otracker=clp_pmu_v2_Gaming%2BLaptops_2_19.productCard.PMU_V2_HP%2BPavilion%2BRyzen%2B5%2BHexa%2BCore%2B5600H%2B-%2B%25288%2BGB%252F512%2BGB%2BSSD%252FWindows%2B10%252F4%2BGB%2BGraphics%252FNVIDIA%2BGeForce%2BGTX%2B1650%252F144%2BHz%2529%2B15-ec2004AX%2BGaming%2BLaptop_laptops-store_COMG5GZXPWMGTNWS_neo%2Fmerchandising_1&amp;otracker1=clp_pmu_v2_PINNED_neo%2Fmerchandising_Gaming%2BLaptops_LIST_productCard_cc_2_NA_view-all&amp;cid=COMG5GZXPWMGTNWS\" rel=\"noopener noreferrer\" target=\"_blank\" title=\"HP Pavilion Ryzen 5 Hexa Core 5600H - (8 GB/512 GB SSD/Windows 10/4 GB Graphics/NVIDIA GeForce GTX 1650/144 Hz) 15-ec2004AX Gaming Laptop\">HP Pavilion Ryzen 5 Hexa Core 5600H - (8 GB/512 GB SSD/Windows 10...</a>,\n",
       " <a class=\"s1Q9rs\" href=\"/lenovo-ideapad-gaming-3-core-i5-11th-gen-8-gb-512-gb-ssd-windows-10-home-4-graphics-nvidia-geforce-gtx-1650-120-hz-15ihu6-laptop/p/itme9af20e47eba2?pid=COMG6ZFCQGXNT3KR&amp;lid=LSTCOMG6ZFCQGXNT3KRIEGATD&amp;marketplace=FLIPKART&amp;fm=neo%2Fmerchandising&amp;iid=M_4dcb01e0-321c-420f-a594-faa660f330aa_19_V64VET8EKPLC_MC.COMG6ZFCQGXNT3KR&amp;ppt=None&amp;ppn=None&amp;ssid=8y38eyk0rk0000001659956668355&amp;otracker=clp_pmu_v2_Gaming%2BLaptops_3_19.productCard.PMU_V2_Lenovo%2BIdeaPad%2BGaming%2B3%2BCore%2Bi5%2B11th%2BGen%2B-%2B%25288%2BGB%252F512%2BGB%2BSSD%252FWindows%2B10%2BHome%252F4%2BGB%2BGraphics%252FNVIDIA%2BGeForce%2BGTX%2B1650%252F120%2BHz%2529%2B15IHU6%2BGaming%2BLaptop_laptops-store_COMG6ZFCQGXNT3KR_neo%2Fmerchandising_2&amp;otracker1=clp_pmu_v2_PINNED_neo%2Fmerchandising_Gaming%2BLaptops_LIST_productCard_cc_3_NA_view-all&amp;cid=COMG6ZFCQGXNT3KR\" rel=\"noopener noreferrer\" target=\"_blank\" title=\"Lenovo IdeaPad Gaming 3 Core i5 11th Gen - (8 GB/512 GB SSD/Windows 10 Home/4 GB Graphics/NVIDIA GeForce GTX 1650/120 Hz) 15IHU6 Gaming Laptop\">Lenovo IdeaPad Gaming 3 Core i5 11th Gen - (8 GB/512 GB SSD/Windo...</a>,\n",
       " <a class=\"s1Q9rs\" href=\"/acer-aspire-7-ryzen-5-hexa-core-5500u-8-gb-512-gb-ssd-windows-10-home-4-graphics-nvidia-geforce-gtx-1650-a715-42g-gaming-laptop/p/itm69a247c4ad300?pid=COMGYCG8ZBXWPYUU&amp;lid=LSTCOMGYCG8ZBXWPYUUSTSMVQ&amp;marketplace=FLIPKART&amp;fm=neo%2Fmerchandising&amp;iid=M_4dcb01e0-321c-420f-a594-faa660f330aa_19_V64VET8EKPLC_MC.COMGYCG8ZBXWPYUU&amp;ppt=None&amp;ppn=None&amp;ssid=8y38eyk0rk0000001659956668355&amp;otracker=clp_pmu_v2_Gaming%2BLaptops_4_19.productCard.PMU_V2_acer%2BAspire%2B7%2BRyzen%2B5%2BHexa%2BCore%2B5500U%2B-%2B%25288%2BGB%252F512%2BGB%2BSSD%252FWindows%2B10%2BHome%252F4%2BGB%2BGraphics%252FNVIDIA%2BGeForce%2BGTX%2B1650%2529%2BA715-42G%2BGaming%2BLaptop_laptops-store_COMGYCG8ZBXWPYUU_neo%2Fmerchandising_3&amp;otracker1=clp_pmu_v2_PINNED_neo%2Fmerchandising_Gaming%2BLaptops_LIST_productCard_cc_4_NA_view-all&amp;cid=COMGYCG8ZBXWPYUU\" rel=\"noopener noreferrer\" target=\"_blank\" title=\"acer Aspire 7 Ryzen 5 Hexa Core 5500U - (8 GB/512 GB SSD/Windows 10 Home/4 GB Graphics/NVIDIA GeForce GTX 1650) A715-42G Gaming Laptop\">acer Aspire 7 Ryzen 5 Hexa Core 5500U - (8 GB/512 GB SSD/Windows ...</a>,\n",
       " <a class=\"s1Q9rs\" href=\"/lenovo-legion-5-ryzen-hexa-core-4600h-8-gb-1-tb-hdd-256-gb-ssd-windows-10-home-4-graphics-nvidia-geforce-gtx-1650-120-hz-15arh05-gaming-laptop/p/itmb4bcabd4640b9?pid=COMG36BSRKATBZQJ&amp;lid=LSTCOMG36BSRKATBZQJN75CVN&amp;marketplace=FLIPKART&amp;fm=neo%2Fmerchandising&amp;iid=M_4dcb01e0-321c-420f-a594-faa660f330aa_19_V64VET8EKPLC_MC.COMG36BSRKATBZQJ&amp;ppt=None&amp;ppn=None&amp;ssid=8y38eyk0rk0000001659956668355&amp;otracker=clp_pmu_v2_Gaming%2BLaptops_5_19.productCard.PMU_V2_Lenovo%2BLegion%2B5%2BRyzen%2B5%2BHexa%2BCore%2B4600H%2B-%2B%25288%2BGB%252F1%2BTB%2BHDD%252F256%2BGB%2BSSD%252FWindows%2B10%2BHome%252F4%2BGB%2BGraphics%252FNVIDIA%2BGeForce%2BGTX%2B1650%252F120%2BHz%2529%2B15ARH05%2BGaming%2BLaptop_laptops-store_COMG36BSRKATBZQJ_neo%2Fmerchandising_4&amp;otracker1=clp_pmu_v2_PINNED_neo%2Fmerchandising_Gaming%2BLaptops_LIST_productCard_cc_5_NA_view-all&amp;cid=COMG36BSRKATBZQJ\" rel=\"noopener noreferrer\" target=\"_blank\" title=\"Lenovo Legion 5 Ryzen 5 Hexa Core 4600H - (8 GB/1 TB HDD/256 GB SSD/Windows 10 Home/4 GB Graphics/NVIDIA GeForce GTX 1650/120 Hz) 15ARH05 Gaming Laptop\">Lenovo Legion 5 Ryzen 5 Hexa Core 4600H - (8 GB/1 TB HDD/256 GB S...</a>,\n",
       " <a class=\"s1Q9rs\" href=\"/asus-rog-strix-g15-ryzen-7-octa-core-4800h-8-gb-512-gb-ssd-windows-11-home-4-graphics-nvidia-geforce-rtx-3050-144-hz-g513ic-hn025w-gaming-laptop/p/itm8e5ef2d250684?pid=COMGAD9VKCWK8CZU&amp;lid=LSTCOMGAD9VKCWK8CZUU4ICFA&amp;marketplace=FLIPKART&amp;fm=neo%2Fmerchandising&amp;iid=M_4dcb01e0-321c-420f-a594-faa660f330aa_19_V64VET8EKPLC_MC.COMGAD9VKCWK8CZU&amp;ppt=None&amp;ppn=None&amp;ssid=8y38eyk0rk0000001659956668355&amp;otracker=clp_pmu_v2_Gaming%2BLaptops_6_19.productCard.PMU_V2_ASUS%2BROG%2BStrix%2BG15%2BRyzen%2B7%2BOcta%2BCore%2B4800H%2B-%2B%25288%2BGB%252F512%2BGB%2BSSD%252FWindows%2B11%2BHome%252F4%2BGB%2BGraphics%252FNVIDIA%2BGeForce%2BRTX%2BRTX%2B3050%252F144%2BHz%2529%2BG513IC-HN025W%2BGaming%2BLaptop_laptops-store_COMGAD9VKCWK8CZU_neo%2Fmerchandising_5&amp;otracker1=clp_pmu_v2_PINNED_neo%2Fmerchandising_Gaming%2BLaptops_LIST_productCard_cc_6_NA_view-all&amp;cid=COMGAD9VKCWK8CZU\" rel=\"noopener noreferrer\" target=\"_blank\" title=\"ASUS ROG Strix G15 Ryzen 7 Octa Core 4800H - (8 GB/512 GB SSD/Windows 11 Home/4 GB Graphics/NVIDIA GeForce RTX RTX 3050/144 Hz) G513IC-HN025W Gaming Laptop\">ASUS ROG Strix G15 Ryzen 7 Octa Core 4800H - (8 GB/512 GB SSD/Win...</a>]"
      ]
     },
     "execution_count": 13,
     "metadata": {},
     "output_type": "execute_result"
    }
   ],
   "source": [
    "soup.find_all(\"a\",class_=\"s1Q9rs\")"
   ]
  },
  {
   "cell_type": "code",
   "execution_count": 14,
   "id": "0157e26f",
   "metadata": {},
   "outputs": [
    {
     "data": {
      "text/plain": [
       "<a class=\"s1Q9rs\" href=\"/infinix-inbook-x1-core-i3-10th-gen-8-gb-256-gb-ssd-windows-11-home-xl11-thin-light-laptop/p/itmc853735b3bcae?pid=COMG8Z3HYTJZFF2Z&amp;lid=LSTCOMG8Z3HYTJZFF2ZTYHG57&amp;marketplace=FLIPKART&amp;fm=neo%2Fmerchandising&amp;iid=M_4dcb01e0-321c-420f-a594-faa660f330aa_17_ABTXC9653TK1_MC.COMG8Z3HYTJZFF2Z&amp;ppt=None&amp;ppn=None&amp;ssid=8y38eyk0rk0000001659956668355&amp;otracker=clp_pmu_v2_Design%2BContent%2B%2526%2BLaptops_1_17.productCard.PMU_V2_Infinix%2BINBook%2BX1%2BCore%2Bi3%2B10th%2BGen%2B-%2B%25288%2BGB%252F256%2BGB%2BSSD%252FWindows%2B11%2BHome%2529%2BXL11%2BThin%2Band%2BLight%2BLaptop_laptops-store_COMG8Z3HYTJZFF2Z_neo%2Fmerchandising_0&amp;otracker1=clp_pmu_v2_PINNED_neo%2Fmerchandising_Design%2BContent%2B%2526%2BLaptops_LIST_productCard_cc_1_NA_view-all&amp;cid=COMG8Z3HYTJZFF2Z\" rel=\"noopener noreferrer\" target=\"_blank\" title=\"Infinix INBook X1 Core i3 10th Gen - (8 GB/256 GB SSD/Windows 11 Home) XL11 Thin and Light Laptop\">Infinix INBook X1 Core i3 10th Gen - (8 GB/256 GB SSD/Windows 11 ...</a>"
      ]
     },
     "execution_count": 14,
     "metadata": {},
     "output_type": "execute_result"
    }
   ],
   "source": [
    "soup.find_all(\"a\",class_=\"s1Q9rs\")[0]"
   ]
  },
  {
   "cell_type": "code",
   "execution_count": 15,
   "id": "d995db16",
   "metadata": {},
   "outputs": [
    {
     "data": {
      "text/plain": [
       "'Infinix INBook X1 Core i3 10th Gen - (8 GB/256 GB SSD/Windows 11 ...'"
      ]
     },
     "execution_count": 15,
     "metadata": {},
     "output_type": "execute_result"
    }
   ],
   "source": [
    "soup.find_all(\"a\",class_=\"s1Q9rs\")[0].text"
   ]
  },
  {
   "cell_type": "code",
   "execution_count": 19,
   "id": "d5b111e8",
   "metadata": {},
   "outputs": [],
   "source": [
    "A = soup.find_all(\"a\",class_=\"s1Q9rs\")[0].text\n",
    "A1 = A.split(\" \")"
   ]
  },
  {
   "cell_type": "code",
   "execution_count": 20,
   "id": "fb0ba0a0",
   "metadata": {},
   "outputs": [
    {
     "data": {
      "text/plain": [
       "['Infinix',\n",
       " 'INBook',\n",
       " 'X1',\n",
       " 'Core',\n",
       " 'i3',\n",
       " '10th',\n",
       " 'Gen',\n",
       " '-',\n",
       " '(8',\n",
       " 'GB/256',\n",
       " 'GB',\n",
       " 'SSD/Windows',\n",
       " '11',\n",
       " '...']"
      ]
     },
     "execution_count": 20,
     "metadata": {},
     "output_type": "execute_result"
    }
   ],
   "source": [
    "A1"
   ]
  },
  {
   "cell_type": "code",
   "execution_count": 22,
   "id": "ffe65853",
   "metadata": {},
   "outputs": [
    {
     "data": {
      "text/plain": [
       "'Infinix'"
      ]
     },
     "execution_count": 22,
     "metadata": {},
     "output_type": "execute_result"
    }
   ],
   "source": [
    "(A1[0])"
   ]
  },
  {
   "cell_type": "code",
   "execution_count": 25,
   "id": "936a56a7",
   "metadata": {},
   "outputs": [],
   "source": [
    "Laptop_name = (A1[0])"
   ]
  },
  {
   "cell_type": "code",
   "execution_count": 26,
   "id": "fccfd547",
   "metadata": {},
   "outputs": [
    {
     "data": {
      "text/plain": [
       "'Infinix'"
      ]
     },
     "execution_count": 26,
     "metadata": {},
     "output_type": "execute_result"
    }
   ],
   "source": [
    "Laptop_name"
   ]
  },
  {
   "cell_type": "code",
   "execution_count": 27,
   "id": "dedf67d9",
   "metadata": {},
   "outputs": [],
   "source": [
    "def get_Laptop_name():\n",
    "    url = \"https://www.flipkart.com/laptops-store?otracker=nmenu_sub_Electronics_0_Laptops\"\n",
    "    import requests\n",
    "    from bs4 import BeautifulSoup\n",
    "    requests.get(url)\n",
    "    data = requests.get(url)\n",
    "    soup = BeautifulSoup(data.content)\n",
    "    A = soup.find_all(\"a\",class_=\"s1Q9rs\")[0].text\n",
    "    A1 = A.split(\" \")\n",
    "    Laptop_name\n",
    "    return Laptop_name\n",
    "    "
   ]
  },
  {
   "cell_type": "code",
   "execution_count": 30,
   "id": "5d717fb0",
   "metadata": {},
   "outputs": [
    {
     "data": {
      "text/plain": [
       "'Infinix'"
      ]
     },
     "execution_count": 30,
     "metadata": {},
     "output_type": "execute_result"
    }
   ],
   "source": [
    "get_Laptop_name()"
   ]
  },
  {
   "cell_type": "markdown",
   "id": "1be26cef",
   "metadata": {},
   "source": [
    "# Laptop price"
   ]
  },
  {
   "cell_type": "code",
   "execution_count": 31,
   "id": "62d85635",
   "metadata": {},
   "outputs": [],
   "source": [
    "url = \"https://www.flipkart.com/laptops-store?otracker=nmenu_sub_Electronics_0_Laptops\""
   ]
  },
  {
   "cell_type": "code",
   "execution_count": 33,
   "id": "6b69fd07",
   "metadata": {},
   "outputs": [
    {
     "data": {
      "text/plain": [
       "[<div class=\"_30jeq3\">₹29,990</div>,\n",
       " <div class=\"_30jeq3\">₹30,990</div>,\n",
       " <div class=\"_30jeq3\">₹39,990</div>,\n",
       " <div class=\"_30jeq3\">₹22,990</div>,\n",
       " <div class=\"_30jeq3\">₹49,990</div>,\n",
       " <div class=\"_30jeq3\">₹31,990</div>,\n",
       " <div class=\"_30jeq3\">₹54,990</div>,\n",
       " <div class=\"_30jeq3\">₹56,990</div>,\n",
       " <div class=\"_30jeq3\">₹59,999</div>,\n",
       " <div class=\"_30jeq3\">₹51,990</div>,\n",
       " <div class=\"_30jeq3\">₹54,990</div>,\n",
       " <div class=\"_30jeq3\">₹79,990</div>]"
      ]
     },
     "execution_count": 33,
     "metadata": {},
     "output_type": "execute_result"
    }
   ],
   "source": [
    "soup.find_all(\"div\",class_=(\"_30jeq3\"))"
   ]
  },
  {
   "cell_type": "code",
   "execution_count": 34,
   "id": "3b25a898",
   "metadata": {},
   "outputs": [
    {
     "data": {
      "text/plain": [
       "<div class=\"_30jeq3\">₹29,990</div>"
      ]
     },
     "execution_count": 34,
     "metadata": {},
     "output_type": "execute_result"
    }
   ],
   "source": [
    "soup.find_all(\"div\",class_=(\"_30jeq3\"))[0]"
   ]
  },
  {
   "cell_type": "code",
   "execution_count": 35,
   "id": "861ba1e6",
   "metadata": {},
   "outputs": [
    {
     "data": {
      "text/plain": [
       "'₹29,990'"
      ]
     },
     "execution_count": 35,
     "metadata": {},
     "output_type": "execute_result"
    }
   ],
   "source": [
    "soup.find_all(\"div\",class_=(\"_30jeq3\"))[0].text"
   ]
  },
  {
   "cell_type": "code",
   "execution_count": 36,
   "id": "ebc7fa35",
   "metadata": {},
   "outputs": [],
   "source": [
    "B = soup.find_all(\"div\",class_=(\"_30jeq3\"))[0].text"
   ]
  },
  {
   "cell_type": "code",
   "execution_count": 51,
   "id": "e2a5a389",
   "metadata": {},
   "outputs": [],
   "source": [
    "Laptop_price = B"
   ]
  },
  {
   "cell_type": "code",
   "execution_count": 52,
   "id": "5cb91d01",
   "metadata": {},
   "outputs": [
    {
     "data": {
      "text/plain": [
       "'₹29,990'"
      ]
     },
     "execution_count": 52,
     "metadata": {},
     "output_type": "execute_result"
    }
   ],
   "source": [
    "Laptop_price"
   ]
  },
  {
   "cell_type": "code",
   "execution_count": 57,
   "id": "3e330f2f",
   "metadata": {},
   "outputs": [],
   "source": [
    "def get_Laptop_price():\n",
    "    url = \"https://www.flipkart.com/laptops-store?otracker=nmenu_sub_Electronics_0_Laptops\"\n",
    "    import requests\n",
    "    from bs4 import BeautifulSoup\n",
    "    soup.find_all(\"div\",class_=(\"_30jeq3\"))[0].text\n",
    "    Laptop_price = B\n",
    "    return Laptop_price\n",
    "    "
   ]
  },
  {
   "cell_type": "code",
   "execution_count": 58,
   "id": "18d0d1e6",
   "metadata": {},
   "outputs": [
    {
     "data": {
      "text/plain": [
       "'Infinix'"
      ]
     },
     "execution_count": 58,
     "metadata": {},
     "output_type": "execute_result"
    }
   ],
   "source": [
    "Laptop_name"
   ]
  },
  {
   "cell_type": "code",
   "execution_count": 59,
   "id": "e3593090",
   "metadata": {},
   "outputs": [
    {
     "data": {
      "text/plain": [
       "'₹29,990'"
      ]
     },
     "execution_count": 59,
     "metadata": {},
     "output_type": "execute_result"
    }
   ],
   "source": [
    "Laptop_price"
   ]
  },
  {
   "cell_type": "code",
   "execution_count": null,
   "id": "54e80b98",
   "metadata": {},
   "outputs": [],
   "source": []
  }
 ],
 "metadata": {
  "kernelspec": {
   "display_name": "Python 3",
   "language": "python",
   "name": "python3"
  },
  "language_info": {
   "codemirror_mode": {
    "name": "ipython",
    "version": 3
   },
   "file_extension": ".py",
   "mimetype": "text/x-python",
   "name": "python",
   "nbconvert_exporter": "python",
   "pygments_lexer": "ipython3",
   "version": "3.8.8"
  }
 },
 "nbformat": 4,
 "nbformat_minor": 5
}
